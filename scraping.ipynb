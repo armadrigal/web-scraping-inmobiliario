{
 "cells": [
  {
   "cell_type": "markdown",
   "metadata": {},
   "source": [
    "# Web Scraping de casas en venta en la plataforma Lamudi\n",
    "\n",
    "El siguiente es un script de muestra para hacer web scraping en una plataforma de vienes raices \n",
    "con la libreria selenium de python. La finalidad es extraer datos de los diferentes inmuebles \n",
    "en venta y almacenarlos en un archivo csv para su posterior análisis\n"
   ]
  },
  {
   "cell_type": "markdown",
   "metadata": {},
   "source": [
    "## Importar librerias"
   ]
  },
  {
   "cell_type": "code",
   "execution_count": 111,
   "metadata": {},
   "outputs": [],
   "source": [
    "from selenium import webdriver\n",
    "from selenium.webdriver.common.by import By\n",
    "from selenium.common.exceptions import NoSuchElementException\n",
    "import pandas as pd\n",
    "import numpy as np"
   ]
  },
  {
   "cell_type": "markdown",
   "metadata": {},
   "source": [
    "## Número de páginas\n",
    "\n",
    "Definimos la variable `num_paginas`, la cual le indica al script el número de páginas \n",
    "de las cuales queremos extraer información. Cada página contiene información de 30 inmuebles."
   ]
  },
  {
   "cell_type": "code",
   "execution_count": 112,
   "metadata": {},
   "outputs": [],
   "source": [
    "num_paginas = 10"
   ]
  },
  {
   "cell_type": "markdown",
   "metadata": {},
   "source": [
    "## Navegador\n",
    "\n",
    "El navegador web utilizado para el scraping fue `Edge` el cual viene preinstalado en `Windows 10`"
   ]
  },
  {
   "cell_type": "code",
   "execution_count": 113,
   "metadata": {},
   "outputs": [],
   "source": [
    "driver = webdriver.Edge()"
   ]
  },
  {
   "cell_type": "markdown",
   "metadata": {},
   "source": [
    "## Función para extraer urls de cada inmueble"
   ]
  },
  {
   "cell_type": "code",
   "execution_count": 114,
   "metadata": {},
   "outputs": [],
   "source": [
    "def extraer_urls(num_paginas = 1):\n",
    "    urls = []\n",
    "    for i in range(1,num_paginas+1):\n",
    "        driver.get(f\"https://www.lamudi.com.mx/casa/for-sale/?page={i}\")\n",
    "        driver.implicitly_wait(3)\n",
    "        container = driver.find_element(By.XPATH, \"/html/body/div[4]/div[2]/div[2]/div[2]\")\n",
    "        inmuebles = container.find_elements(By.CLASS_NAME,\"ListingCell-agent-redesign\")\n",
    "        \n",
    "        for inmueble in inmuebles:\n",
    "            url = inmueble.find_element(By.CLASS_NAME,\"ListingCell-MainImage\").find_element(By.CSS_SELECTOR,\"a\").get_attribute(\"href\")\n",
    "            urls.append(url)\n",
    "    return urls "
   ]
  },
  {
   "cell_type": "markdown",
   "metadata": {},
   "source": [
    "## Función para extraer la informacion de cada inmueble"
   ]
  },
  {
   "cell_type": "code",
   "execution_count": 115,
   "metadata": {},
   "outputs": [],
   "source": [
    "def extraer_info_inmueble(url):\n",
    "    try:\n",
    "        driver.get(url)\n",
    "        driver.implicitly_wait(3)\n",
    "        container = driver.find_element(By.CLASS_NAME,\"PdpV5-content-mainColumn\")\n",
    "        \n",
    "    except NoSuchElementException:\n",
    "        return None\n",
    "        \n",
    "    info = {\n",
    "        'Título':None,\n",
    "        'Descripción':None,\n",
    "        'Precio':None,\n",
    "        'Recámaras':None,\n",
    "        'Baños':None,\n",
    "        'Estacionamientos':None,\n",
    "        'Construidos':None,\n",
    "        'Terreno':None,\n",
    "        'Url':url\n",
    "    }\n",
    "\n",
    "    # Extraer titilo\n",
    "    info['Título'] = container.find_element(By.CLASS_NAME,\"Title-pdp-title-wrapper\").find_element(By.CSS_SELECTOR,\"h1\").text\n",
    "\n",
    "    # Extraer descripción\n",
    "    info['Descripción'] = container.find_element(By.CLASS_NAME,\"ViewMore-text-description\").text\n",
    "\n",
    "    # Extraer precio\n",
    "    info['Precio'] = container.find_element(By.CLASS_NAME,\"Title-pdp-price\").find_element(By.CSS_SELECTOR,\"span\").text\n",
    "\n",
    "    # Extraer info de recamaras, baños, estacionamientos, m^2 construidos, m^2 terreno\n",
    "    for i in range(1,3):\n",
    "        j=1\n",
    "        while 1:\n",
    "            try:\n",
    "                categoria = container.find_element(By.XPATH,f\"//section[1]/div[2]/div[1]/div[{i}]/div[{j}]\").find_element(By.CLASS_NAME,\"ellipsis\").text\n",
    "                numero = container.find_element(By.XPATH,f\"//section[1]/div[2]/div[1]/div[{i}]/div[{j}]\").find_element(By.CLASS_NAME,\"last\").text\n",
    "                j+=1\n",
    "            \n",
    "                if categoria.find('Recámaras') != -1:\n",
    "                    info['Recámaras'] = numero\n",
    "                if categoria.find('Baños') != -1:\n",
    "                    info['Baños'] = numero\n",
    "                if categoria.find('Estacionamientos') != -1:\n",
    "                    info['Estacionamientos'] = numero\n",
    "                if categoria.find('Construidos') != -1:\n",
    "                    info['Construidos'] = numero\n",
    "                if categoria.find('Terreno') != -1:\n",
    "                    info['Terreno'] = numero\n",
    "                \n",
    "            except NoSuchElementException:\n",
    "                break\n",
    "        \n",
    "    return info"
   ]
  },
  {
   "cell_type": "markdown",
   "metadata": {},
   "source": [
    "## Extraer data\n",
    "\n",
    "Extraemos los datos y los almacenamos en un Data Frame de pandas"
   ]
  },
  {
   "cell_type": "code",
   "execution_count": 116,
   "metadata": {},
   "outputs": [
    {
     "name": "stdout",
     "output_type": "stream",
     "text": [
      "|████████████████████████████████████████| 100%\r"
     ]
    }
   ],
   "source": [
    "def extraer_data():\n",
    "    data = {\n",
    "        'Título':[],\n",
    "        'Descripción':[],\n",
    "        'Precio':[],\n",
    "        'Recámaras':[],\n",
    "        'Baños':[],\n",
    "        'Estacionamientos':[],\n",
    "        'Construidos':[],\n",
    "        'Terreno':[],\n",
    "        'Url':[]\n",
    "    }\n",
    "\n",
    "    urls = extraer_urls(num_paginas)\n",
    "\n",
    "    for i,url in enumerate(urls):\n",
    "        info = extraer_info_inmueble(url)\n",
    "        if info != None:\n",
    "            for key in data.keys():\n",
    "                data[key].append(info[key])\n",
    "        \n",
    "        # Imprimir barra de progreso\n",
    "        print(f\"|{'█'*int((i*40)/(len(urls)-1))}{' '*(40 - int((i*40)/(len(urls)-1)))}| {int(((i*40)/(len(urls)-1))*2.5)}%\",end='\\r')  \n",
    "        \n",
    "    return data\n",
    "\n",
    "data = extraer_data()"
   ]
  },
  {
   "cell_type": "code",
   "execution_count": 117,
   "metadata": {},
   "outputs": [
    {
     "data": {
      "text/html": [
       "<div>\n",
       "<style scoped>\n",
       "    .dataframe tbody tr th:only-of-type {\n",
       "        vertical-align: middle;\n",
       "    }\n",
       "\n",
       "    .dataframe tbody tr th {\n",
       "        vertical-align: top;\n",
       "    }\n",
       "\n",
       "    .dataframe thead th {\n",
       "        text-align: right;\n",
       "    }\n",
       "</style>\n",
       "<table border=\"1\" class=\"dataframe\">\n",
       "  <thead>\n",
       "    <tr style=\"text-align: right;\">\n",
       "      <th></th>\n",
       "      <th>Título</th>\n",
       "      <th>Descripción</th>\n",
       "      <th>Precio</th>\n",
       "      <th>Recámaras</th>\n",
       "      <th>Baños</th>\n",
       "      <th>Estacionamientos</th>\n",
       "      <th>Construidos</th>\n",
       "      <th>Terreno</th>\n",
       "      <th>Url</th>\n",
       "    </tr>\n",
       "  </thead>\n",
       "  <tbody>\n",
       "    <tr>\n",
       "      <th>0</th>\n",
       "      <td>Casa en Senderos de Monteverde</td>\n",
       "      <td>Moderna casa con 4 recámaras y 4 baños, todas ...</td>\n",
       "      <td>$ 3,450,000</td>\n",
       "      <td>4</td>\n",
       "      <td>4</td>\n",
       "      <td>3</td>\n",
       "      <td>160</td>\n",
       "      <td>143</td>\n",
       "      <td>https://www.lamudi.com.mx/casa-en-senderos-de-...</td>\n",
       "    </tr>\n",
       "    <tr>\n",
       "      <th>1</th>\n",
       "      <td>Casa de Autor en Venta Zibatá</td>\n",
       "      <td>Wiggot: pSBi4jM\\n\\n\\nHermosa casa con espacios...</td>\n",
       "      <td>$ 3,995,000</td>\n",
       "      <td>3</td>\n",
       "      <td>4</td>\n",
       "      <td>2</td>\n",
       "      <td>184</td>\n",
       "      <td>148</td>\n",
       "      <td>https://www.lamudi.com.mx/casa-de-autor-en-ven...</td>\n",
       "    </tr>\n",
       "    <tr>\n",
       "      <th>2</th>\n",
       "      <td>Casa en venta Riviera Veracruzana acceso a la ...</td>\n",
       "      <td>Casa  de 1 Nivel con 3 Recamaras en la Riviera...</td>\n",
       "      <td>$ 3,050,000</td>\n",
       "      <td>3</td>\n",
       "      <td>2.5</td>\n",
       "      <td>2</td>\n",
       "      <td>195</td>\n",
       "      <td>159</td>\n",
       "      <td>https://www.lamudi.com.mx/casa-en-venta-con-ac...</td>\n",
       "    </tr>\n",
       "    <tr>\n",
       "      <th>3</th>\n",
       "      <td>estilo único- también tenemos preventa- amplio...</td>\n",
       "      <td>PLANTA BAJA:\\n* Cochera para 4 autos (2 techad...</td>\n",
       "      <td>$ 9,750,000</td>\n",
       "      <td>5</td>\n",
       "      <td>5</td>\n",
       "      <td>None</td>\n",
       "      <td>500</td>\n",
       "      <td>650</td>\n",
       "      <td>https://www.lamudi.com.mx/estilo-nico-tambi-n-...</td>\n",
       "    </tr>\n",
       "    <tr>\n",
       "      <th>4</th>\n",
       "      <td>Casa Malaga Residencial!!</td>\n",
       "      <td>Ven y conoce uno de nuestros mejores prototipo...</td>\n",
       "      <td>$ 3,100,000</td>\n",
       "      <td>3</td>\n",
       "      <td>2.5</td>\n",
       "      <td>2</td>\n",
       "      <td>136</td>\n",
       "      <td>144</td>\n",
       "      <td>https://www.lamudi.com.mx/casa-malaga-residenc...</td>\n",
       "    </tr>\n",
       "  </tbody>\n",
       "</table>\n",
       "</div>"
      ],
      "text/plain": [
       "                                              Título  \\\n",
       "0                     Casa en Senderos de Monteverde   \n",
       "1                      Casa de Autor en Venta Zibatá   \n",
       "2  Casa en venta Riviera Veracruzana acceso a la ...   \n",
       "3  estilo único- también tenemos preventa- amplio...   \n",
       "4                          Casa Malaga Residencial!!   \n",
       "\n",
       "                                         Descripción       Precio Recámaras  \\\n",
       "0  Moderna casa con 4 recámaras y 4 baños, todas ...  $ 3,450,000         4   \n",
       "1  Wiggot: pSBi4jM\\n\\n\\nHermosa casa con espacios...  $ 3,995,000         3   \n",
       "2  Casa  de 1 Nivel con 3 Recamaras en la Riviera...  $ 3,050,000         3   \n",
       "3  PLANTA BAJA:\\n* Cochera para 4 autos (2 techad...  $ 9,750,000         5   \n",
       "4  Ven y conoce uno de nuestros mejores prototipo...  $ 3,100,000         3   \n",
       "\n",
       "  Baños Estacionamientos Construidos Terreno  \\\n",
       "0     4                3         160     143   \n",
       "1     4                2         184     148   \n",
       "2   2.5                2         195     159   \n",
       "3     5             None         500     650   \n",
       "4   2.5                2         136     144   \n",
       "\n",
       "                                                 Url  \n",
       "0  https://www.lamudi.com.mx/casa-en-senderos-de-...  \n",
       "1  https://www.lamudi.com.mx/casa-de-autor-en-ven...  \n",
       "2  https://www.lamudi.com.mx/casa-en-venta-con-ac...  \n",
       "3  https://www.lamudi.com.mx/estilo-nico-tambi-n-...  \n",
       "4  https://www.lamudi.com.mx/casa-malaga-residenc...  "
      ]
     },
     "execution_count": 117,
     "metadata": {},
     "output_type": "execute_result"
    }
   ],
   "source": [
    "df = pd.DataFrame(data)\n",
    "df.head(5)"
   ]
  },
  {
   "cell_type": "code",
   "execution_count": 118,
   "metadata": {},
   "outputs": [
    {
     "name": "stdout",
     "output_type": "stream",
     "text": [
      "<class 'pandas.core.frame.DataFrame'>\n",
      "RangeIndex: 297 entries, 0 to 296\n",
      "Data columns (total 9 columns):\n",
      " #   Column            Non-Null Count  Dtype \n",
      "---  ------            --------------  ----- \n",
      " 0   Título            297 non-null    object\n",
      " 1   Descripción       297 non-null    object\n",
      " 2   Precio            297 non-null    object\n",
      " 3   Recámaras         295 non-null    object\n",
      " 4   Baños             294 non-null    object\n",
      " 5   Estacionamientos  278 non-null    object\n",
      " 6   Construidos       295 non-null    object\n",
      " 7   Terreno           291 non-null    object\n",
      " 8   Url               297 non-null    object\n",
      "dtypes: object(9)\n",
      "memory usage: 21.0+ KB\n"
     ]
    }
   ],
   "source": [
    "df.info()"
   ]
  },
  {
   "cell_type": "markdown",
   "metadata": {},
   "source": [
    "## Modificamos los tipos de datos en el data frame"
   ]
  },
  {
   "cell_type": "code",
   "execution_count": 123,
   "metadata": {},
   "outputs": [],
   "source": [
    "#df['Precio'] = df['Precio'].apply(lambda x: int(x[2:].replace(',','')) if x.find('$') != -1 else np.nan)\n",
    "df['Recámaras'] = df['Recámaras'].apply(lambda x: int(x) if x != None else np.nan)\n",
    "df['Baños'] = df['Baños'].apply(lambda x: float(x) if x != None else np.nan)\n",
    "df['Estacionamientos'] = df['Estacionamientos'].apply(lambda x: int(x) if x != None else np.nan)\n",
    "df['Construidos'] = df['Construidos'].apply(lambda x: float(x) if x != None else np.nan)\n",
    "df['Terreno'] = df['Terreno'].apply(lambda x: float(x) if x != None else np.nan)"
   ]
  },
  {
   "cell_type": "code",
   "execution_count": 124,
   "metadata": {},
   "outputs": [],
   "source": [
    "df.rename(columns={'Construidos':'Construidos m2', 'Terreno':'Terreno m2'}, inplace=True)"
   ]
  },
  {
   "cell_type": "code",
   "execution_count": 125,
   "metadata": {},
   "outputs": [
    {
     "name": "stdout",
     "output_type": "stream",
     "text": [
      "<class 'pandas.core.frame.DataFrame'>\n",
      "RangeIndex: 297 entries, 0 to 296\n",
      "Data columns (total 9 columns):\n",
      " #   Column            Non-Null Count  Dtype  \n",
      "---  ------            --------------  -----  \n",
      " 0   Título            297 non-null    object \n",
      " 1   Descripción       297 non-null    object \n",
      " 2   Precio            297 non-null    object \n",
      " 3   Recámaras         295 non-null    float64\n",
      " 4   Baños             294 non-null    float64\n",
      " 5   Estacionamientos  278 non-null    float64\n",
      " 6   Construidos m2    295 non-null    float64\n",
      " 7   Terreno m2        291 non-null    float64\n",
      " 8   Url               297 non-null    object \n",
      "dtypes: float64(5), object(4)\n",
      "memory usage: 21.0+ KB\n"
     ]
    }
   ],
   "source": [
    "df.info()"
   ]
  },
  {
   "cell_type": "markdown",
   "metadata": {},
   "source": [
    "## Guardaos los datos en formatos csv y excel"
   ]
  },
  {
   "cell_type": "code",
   "execution_count": 126,
   "metadata": {},
   "outputs": [],
   "source": [
    "df.to_csv('Data/casas-en-venta.csv', index=False)"
   ]
  },
  {
   "cell_type": "code",
   "execution_count": 127,
   "metadata": {},
   "outputs": [],
   "source": [
    "df.to_excel('Data/casas-en-venta.xlsx', index=False)"
   ]
  }
 ],
 "metadata": {
  "hide_input": false,
  "kernelspec": {
   "display_name": "Python 3 (ipykernel)",
   "language": "python",
   "name": "python3"
  },
  "language_info": {
   "codemirror_mode": {
    "name": "ipython",
    "version": 3
   },
   "file_extension": ".py",
   "mimetype": "text/x-python",
   "name": "python",
   "nbconvert_exporter": "python",
   "pygments_lexer": "ipython3",
   "version": "3.10.8"
  },
  "vscode": {
   "interpreter": {
    "hash": "132c7951dae2cca20ec6812b512b22c170414878fbe54d9b9fa3b345f75ea13a"
   }
  }
 },
 "nbformat": 4,
 "nbformat_minor": 2
}
